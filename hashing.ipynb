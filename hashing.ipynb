{
 "cells": [
  {
   "cell_type": "code",
   "execution_count": 1,
   "metadata": {},
   "outputs": [
    {
     "name": "stdout",
     "output_type": "stream",
     "text": [
      "-9056198825419533765\n",
      "-9056198825419533765\n",
      "1\n",
      "same user\n",
      "John Doe gardener == John Doe gardener\n",
      "------------------------------------\n",
      "1347763217944698233\n",
      "-9056198825419533765\n",
      "2\n",
      "different users\n"
     ]
    }
   ],
   "source": [
    "class User:\n",
    "\n",
    "    def __init__(self, name, occupation):\n",
    "\n",
    "        self.name = name\n",
    "        self.occupation = occupation\n",
    "\n",
    "    def __eq__(self, other):\n",
    "\n",
    "        return self.name == other.name and self.occupation == other.occupation\n",
    "\n",
    "    def __hash__(self):\n",
    "        return hash((self.name, self.occupation))\n",
    "\n",
    "    def __str__(self):\n",
    "        return f'{self.name} {self.occupation}'\n",
    "\n",
    "\n",
    "u1 = User('John Doe', 'gardener')\n",
    "u2 = User('John Doe', 'gardener')\n",
    "\n",
    "users = {u1, u2}\n",
    "\n",
    "print(hash(u1))\n",
    "print(hash(u2))\n",
    "print(len(users))\n",
    "\n",
    "if (u1 == u2):\n",
    "    print('same user')\n",
    "    print(f'{u1} == {u2}')\n",
    "else:\n",
    "    print('different users')\n",
    "\n",
    "print('------------------------------------')\n",
    "\n",
    "u1.occupation = 'programmer'\n",
    "\n",
    "users = {u1, u2}\n",
    "\n",
    "print(hash(u1))\n",
    "print(hash(u2))\n",
    "print(len(users))\n",
    "\n",
    "if (u1 == u2):\n",
    "    print('same user')\n",
    "    print(f'{u1} == {u2}')\n",
    "else:\n",
    "    print('different users')\n"
   ]
  }
 ],
 "metadata": {
  "kernelspec": {
   "display_name": "Python 3",
   "language": "python",
   "name": "python3"
  },
  "language_info": {
   "codemirror_mode": {
    "name": "ipython",
    "version": 3
   },
   "file_extension": ".py",
   "mimetype": "text/x-python",
   "name": "python",
   "nbconvert_exporter": "python",
   "pygments_lexer": "ipython3",
   "version": "3.8.5"
  }
 },
 "nbformat": 4,
 "nbformat_minor": 4
}
