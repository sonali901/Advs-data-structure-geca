{
 "cells": [
  {
   "cell_type": "code",
   "execution_count": 1,
   "metadata": {},
   "outputs": [
    {
     "name": "stdout",
     "output_type": "stream",
     "text": [
      "Following are k randomly selected items\n",
      "9 11 8 4 5 \n"
     ]
    }
   ],
   "source": [
    "# An efficient Python3 program  \n",
    "# to randomly select k items \n",
    "# from a stream of items \n",
    "import random \n",
    "# A utility function  \n",
    "# to print an array \n",
    "def printArray(stream,n): \n",
    "    for i in range(n): \n",
    "        print(stream[i],end=\" \"); \n",
    "    print(); \n",
    "  \n",
    "# A function to randomly select \n",
    "# k items from stream[0..n-1]. \n",
    "def selectKItems(stream, n, k): \n",
    "        i=0;  \n",
    "        # index for elements \n",
    "        # in stream[] \n",
    "          \n",
    "        # reservoir[] is the output  \n",
    "        # array. Initialize it with \n",
    "        # first k elements from stream[] \n",
    "        reservoir = [0]*k; \n",
    "        for i in range(k): \n",
    "            reservoir[i] = stream[i]; \n",
    "          \n",
    "        # Iterate from the (k+1)th \n",
    "        # element to nth element \n",
    "        while(i < n): \n",
    "            # Pick a random index \n",
    "            # from 0 to i. \n",
    "            j = random.randrange(i+1); \n",
    "              \n",
    "            # If the randomly picked \n",
    "            # index is smaller than k, \n",
    "            # then replace the element \n",
    "            # present at the index \n",
    "            # with new element from stream \n",
    "            if(j < k): \n",
    "                reservoir[j] = stream[i]; \n",
    "            i+=1; \n",
    "          \n",
    "        print(\"Following are k randomly selected items\"); \n",
    "        printArray(reservoir, k); \n",
    "      \n",
    "# Driver Code \n",
    "  \n",
    "if __name__ == \"__main__\": \n",
    "    stream = [1, 2, 3, 4, 5, 6, 7, 8, 9, 10, 11, 12]; \n",
    "    n = len(stream); \n",
    "    k = 5; \n",
    "    selectKItems(stream, n, k); \n"
   ]
  }
 ],
 "metadata": {
  "kernelspec": {
   "display_name": "Python 3",
   "language": "python",
   "name": "python3"
  },
  "language_info": {
   "codemirror_mode": {
    "name": "ipython",
    "version": 3
   },
   "file_extension": ".py",
   "mimetype": "text/x-python",
   "name": "python",
   "nbconvert_exporter": "python",
   "pygments_lexer": "ipython3",
   "version": "3.8.5"
  }
 },
 "nbformat": 4,
 "nbformat_minor": 4
}
