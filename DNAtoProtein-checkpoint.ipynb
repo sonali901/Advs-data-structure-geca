{
 "cells": [
  {
   "cell_type": "code",
   "execution_count": 1,
   "metadata": {},
   "outputs": [
    {
     "name": "stdout",
     "output_type": "stream",
     "text": [
      "915\n",
      "305\n",
      "True\n",
      "p--->MSTHDTSLKTTEEVAFQIILLCQFGVGTFANVFLFVYNFSPISTGSKQRPRQVILRHMAVANALTLFLTIFPNNMMTFAPIIPQTDLKCKLEFFTRLVARSTNLCSTCVLSIHQFVTLVPVNSGKGILRASVTNMASYSCYSCWFFSVLNNIYIPIKVTGPQLTDNNNNSKSKLFCSTSDFSVGIVFLRFAHDATFMSIMVWTSVSMVLLLHRHCQRMQYIFTLNQDPRGQAETTATHTILMLVVTFVGFYLLSLICIIFYTYFIYSHHSLRHCNDILVSGFPTISPLLLTFRDPKGPCSVFFNC\n",
      "prt--->MSTHDTSLKTTEEVAFQIILLCQFGVGTFANVFLFVYNFSPISTGSKQRPRQVILRHMAVANALTLFLTIFPNNMMTFAPIIPQTDLKCKLEFFTRLVARSTNLCSTCVLSIHQFVTLVPVNSGKGILRASVTNMASYSCYSCWFFSVLNNIYIPIKVTGPQLTDNNNNSKSKLFCSTSDFSVGIVFLRFAHDATFMSIMVWTSVSMVLLLHRHCQRMQYIFTLNQDPRGQAETTATHTILMLVVTFVGFYLLSLICIIFYTYFIYSHHSLRHCNDILVSGFPTISPLLLTFRDPKGPCSVFFNC\n"
     ]
    }
   ],
   "source": [
    "# Python program to conver \n",
    "# altered DNA to protein \n",
    "\n",
    "inputfile =\"./DNA_sequence_original.txt\"\n",
    "f = open(inputfile, \"r\") \n",
    "seq = f.read() \n",
    "\n",
    "seq = seq.replace(\"\\n\", \"\") \n",
    "seq = seq.replace(\"\\r\", \"\") \n",
    "\n",
    "def translate(seq): \n",
    "\t\n",
    "\ttable = { \n",
    "\t\t'ATA':'I', 'ATC':'I', 'ATT':'I', 'ATG':'M', \n",
    "\t\t'ACA':'T', 'ACC':'T', 'ACG':'T', 'ACT':'T', \n",
    "\t\t'AAC':'N', 'AAT':'N', 'AAA':'K', 'AAG':'K', \n",
    "\t\t'AGC':'S', 'AGT':'S', 'AGA':'R', 'AGG':'R',\t\t\t\t \n",
    "\t\t'CTA':'L', 'CTC':'L', 'CTG':'L', 'CTT':'L', \n",
    "\t\t'CCA':'P', 'CCC':'P', 'CCG':'P', 'CCT':'P', \n",
    "\t\t'CAC':'H', 'CAT':'H', 'CAA':'Q', 'CAG':'Q', \n",
    "\t\t'CGA':'R', 'CGC':'R', 'CGG':'R', 'CGT':'R', \n",
    "\t\t'GTA':'V', 'GTC':'V', 'GTG':'V', 'GTT':'V', \n",
    "\t\t'GCA':'A', 'GCC':'A', 'GCG':'A', 'GCT':'A', \n",
    "\t\t'GAC':'D', 'GAT':'D', 'GAA':'E', 'GAG':'E', \n",
    "\t\t'GGA':'G', 'GGC':'G', 'GGG':'G', 'GGT':'G', \n",
    "\t\t'TCA':'S', 'TCC':'S', 'TCG':'S', 'TCT':'S', \n",
    "\t\t'TTC':'F', 'TTT':'F', 'TTA':'L', 'TTG':'L', \n",
    "\t\t'TAC':'Y', 'TAT':'Y', 'TAA':'_', 'TAG':'_', \n",
    "\t\t'TGC':'C', 'TGT':'C', 'TGA':'_', 'TGG':'W', \n",
    "\t} \n",
    "\tprotein =\"\"\n",
    "\tprint(len(seq))\n",
    "\tif len(seq)%3 == 0: \n",
    "\t\tfor i in range(0, len(seq), 3): \n",
    "\t\t\tcodon = seq[i:i + 3] \n",
    "\t\t\tprotein+= table[codon]\n",
    "\tprint(len(protein))\n",
    "\treturn protein \n",
    "\n",
    "def read_seq(inputfile): \n",
    "\twith open(inputfile, \"r\") as f: \n",
    "\t\tseq = f.read() \n",
    "\tseq = seq.replace(\"\\n\", \"\") \n",
    "\tseq = seq.replace(\"\\r\", \"\") \n",
    "\treturn seq \n",
    "\n",
    "prt = read_seq(\"./amino_acid_sequence_original.txt\") \n",
    "dna = read_seq(\"./DNA_sequence_original.txt\") \n",
    "\n",
    "\n",
    "p = translate(dna[20:935]) \n",
    "print(p == prt)\n",
    "print(\"p--->\"+p+\"\\nprt--->\"+prt)\n"
   ]
  },
  {
   "cell_type": "code",
   "execution_count": null,
   "metadata": {},
   "outputs": [],
   "source": []
  }
 ],
 "metadata": {
  "kernelspec": {
   "display_name": "Python 3",
   "language": "python",
   "name": "python3"
  },
  "language_info": {
   "codemirror_mode": {
    "name": "ipython",
    "version": 3
   },
   "file_extension": ".py",
   "mimetype": "text/x-python",
   "name": "python",
   "nbconvert_exporter": "python",
   "pygments_lexer": "ipython3",
   "version": "3.8.5"
  }
 },
 "nbformat": 4,
 "nbformat_minor": 4
}
