{
 "cells": [
  {
   "cell_type": "code",
   "execution_count": 1,
   "metadata": {},
   "outputs": [
    {
     "name": "stdout",
     "output_type": "stream",
     "text": [
      "single digits\n",
      "double digits\n",
      "triple digits\n",
      "negative singles\n",
      "quadruple digits or more\n"
     ]
    }
   ],
   "source": [
    "from rangetree import RangeTree\n",
    "r = RangeTree()\n",
    "#Insertion is done using Python’s slice notation, or using range objects.\n",
    "r[0:10] = 'single digits'\n",
    "r[10:100] = 'double digits'\n",
    "r[100:1000] = 'triple digits'\n",
    "#Negative integers are supported.\n",
    "r[:-1] = 'negative singles'\n",
    "#Missing a range will result in a KeyError. Use Rangetree.get() or the in operator.\n",
    "#r.get(1000, 'no value')\n",
    "#Open ranges (that go to or from infinity) are supported. Setting open ranges is only possible using the slice notation.\n",
    "r[1000:] = 'quadruple digits or more'\n",
    "print(r[4])\n",
    "print(r[56])\n",
    "print(r[600])\n",
    "print(r[-2])\n",
    "print(r[1000])\n"
   ]
  },
  {
   "cell_type": "code",
   "execution_count": null,
   "metadata": {},
   "outputs": [],
   "source": []
  }
 ],
 "metadata": {
  "kernelspec": {
   "display_name": "Python 3",
   "language": "python",
   "name": "python3"
  },
  "language_info": {
   "codemirror_mode": {
    "name": "ipython",
    "version": 3
   },
   "file_extension": ".py",
   "mimetype": "text/x-python",
   "name": "python",
   "nbconvert_exporter": "python",
   "pygments_lexer": "ipython3",
   "version": "3.8.5"
  }
 },
 "nbformat": 4,
 "nbformat_minor": 4
}
